{
 "cells": [
  {
   "cell_type": "code",
   "execution_count": 16,
   "metadata": {},
   "outputs": [],
   "source": [
    "import os\n",
    "import sys\n",
    "import pandas as pd\n",
    "import random\n",
    "\n",
    "from sklearn.model_selection import GroupKFold\n",
    "\n",
    "# If you intend to run the notebook from its original folder, example/start, you can keep the following line.\n",
    "# Otherwise, you need to append the path to the leaspy folder\n",
    "sys.path.append(os.path.join(os.getcwd(), '..', '..'))"
   ]
  },
  {
   "cell_type": "code",
   "execution_count": 2,
   "metadata": {},
   "outputs": [],
   "source": [
    "%load_ext autoreload\n",
    "%autoreload 2"
   ]
  },
  {
   "cell_type": "code",
   "execution_count": 3,
   "metadata": {},
   "outputs": [],
   "source": [
    "from leaspy.main import Leaspy\n",
    "from leaspy.inputs.data.data import Data\n",
    "from leaspy.inputs.settings.algorithm_settings import AlgorithmSettings\n",
    "from leaspy.utils.output.visualization.plotter import Plotter\n",
    "from leaspy.inputs.data.result import Result"
   ]
  },
  {
   "cell_type": "markdown",
   "metadata": {},
   "source": [
    "### Stability"
   ]
  },
  {
   "cell_type": "code",
   "execution_count": 30,
   "metadata": {},
   "outputs": [],
   "source": [
    "df = pd.read_csv(os.path.join('_inputs', 'data.csv'), index_col= [0, 1])\n",
    "\n",
    "indices = df.index.get_level_values(0).values\n",
    "random.shuffle(indices)\n",
    "\n",
    "if not os.path.isdir('_outputs/'):\n",
    "    os.makedirs('_outputs/')"
   ]
  },
  {
   "cell_type": "markdown",
   "metadata": {},
   "source": [
    "## Run on the whole  dataset first"
   ]
  },
  {
   "cell_type": "code",
   "execution_count": null,
   "metadata": {},
   "outputs": [],
   "source": [
    "# Data\n",
    "data = Data.from_dataframe(df)\n",
    "\n",
    "if not os.path.isdir('_outputs/main'):\n",
    "    os.makedirs('_outputs/main')\n",
    "\n",
    "# Learn the model parameters\n",
    "algo_settings = AlgorithmSettings('mcmc_saem', n_iter=2000)\n",
    "\n",
    "leaspy = Leaspy(\"logistic_parallel\")\n",
    "leaspy.model.load_hyperparameters({'source_dimension': 2}) # Optional\n",
    "\n",
    "leaspy.fit(data, algorithm_settings=algo_settings)\n",
    "leaspy.save(\"_outputs/model_parameters.json\") # optional\n",
    "\n",
    "\n",
    "# Learn the personalization\n",
    "settings = AlgorithmSettings('scipy_minimize')\n",
    "results = leaspy.personalize(data, settings)"
   ]
  },
  {
   "cell_type": "code",
   "execution_count": null,
   "metadata": {},
   "outputs": [],
   "source": []
  },
  {
   "cell_type": "code",
   "execution_count": null,
   "metadata": {},
   "outputs": [],
   "source": []
  },
  {
   "cell_type": "markdown",
   "metadata": {},
   "source": [
    "### Run on subsets of the dataset\n",
    "\n",
    "- Learn the model prameters\n",
    "- Learn the individual parameters"
   ]
  },
  {
   "cell_type": "code",
   "execution_count": 34,
   "metadata": {},
   "outputs": [
    {
     "ename": "NameError",
     "evalue": "name 'data' is not defined",
     "output_type": "error",
     "traceback": [
      "\u001b[0;31m---------------------------------------------------------------------------\u001b[0m",
      "\u001b[0;31mNameError\u001b[0m                                 Traceback (most recent call last)",
      "\u001b[0;32m<ipython-input-34-6b0f97a2e458>\u001b[0m in \u001b[0;36m<module>\u001b[0;34m\u001b[0m\n\u001b[1;32m     16\u001b[0m \u001b[0;34m\u001b[0m\u001b[0m\n\u001b[1;32m     17\u001b[0m     \u001b[0;31m### Fit\u001b[0m\u001b[0;34m\u001b[0m\u001b[0;34m\u001b[0m\u001b[0;34m\u001b[0m\u001b[0m\n\u001b[0;32m---> 18\u001b[0;31m     \u001b[0mleaspy\u001b[0m\u001b[0;34m.\u001b[0m\u001b[0mfit\u001b[0m\u001b[0;34m(\u001b[0m\u001b[0mdata\u001b[0m\u001b[0;34m,\u001b[0m \u001b[0malgorithm_settings\u001b[0m\u001b[0;34m=\u001b[0m\u001b[0malgo_settings\u001b[0m\u001b[0;34m)\u001b[0m\u001b[0;34m\u001b[0m\u001b[0;34m\u001b[0m\u001b[0m\n\u001b[0m\u001b[1;32m     19\u001b[0m     \u001b[0mleaspy\u001b[0m\u001b[0;34m.\u001b[0m\u001b[0msave\u001b[0m\u001b[0;34m(\u001b[0m\u001b[0mos\u001b[0m\u001b[0;34m.\u001b[0m\u001b[0mpath\u001b[0m\u001b[0;34m.\u001b[0m\u001b[0mjoin\u001b[0m\u001b[0;34m(\u001b[0m\u001b[0;34m'_outputs'\u001b[0m\u001b[0;34m,\u001b[0m \u001b[0;34m'fold_'\u001b[0m\u001b[0;34m+\u001b[0m\u001b[0mstr\u001b[0m\u001b[0;34m(\u001b[0m\u001b[0mi\u001b[0m\u001b[0;34m)\u001b[0m\u001b[0;34m,\u001b[0m \u001b[0;34m'model_parameters.json'\u001b[0m\u001b[0;34m)\u001b[0m\u001b[0;34m)\u001b[0m \u001b[0;31m# optional\u001b[0m\u001b[0;34m\u001b[0m\u001b[0;34m\u001b[0m\u001b[0m\n\u001b[1;32m     20\u001b[0m \u001b[0;34m\u001b[0m\u001b[0m\n",
      "\u001b[0;31mNameError\u001b[0m: name 'data' is not defined"
     ]
    }
   ],
   "source": [
    "gkf = GroupKFold(n_splits=10)\n",
    "\n",
    "settings_fit = AlgorithmSettings('mcmc_saem', n_iter=2000)\n",
    "settings_personalization = AlgorithmSettings('scipy_minimize')\n",
    "\n",
    "for i, (train, test) in enumerate(gkf.split(df, groups=indices)):\n",
    "    df_train = df.iloc[train]\n",
    "    df_test =  df.iloc[test]\n",
    "    \n",
    "    if not os.path.isdir(os.path.join('_outputs/', 'fold_'+str(i))):\n",
    "        os.makedirs(os.path.join('_outputs', 'fold_'+str(i)))\n",
    "    \n",
    "    ### Need to have a newmodel every time to be sure to start from the same point\n",
    "    leaspy = Leaspy(\"logistic_parallel\")\n",
    "    leaspy.model.load_hyperparameters({'source_dimension': 2}) # Optional\n",
    "    \n",
    "    ### Fit\n",
    "    leaspy.fit(data, algorithm_settings=algo_settings)\n",
    "    leaspy.save(os.path.join('_outputs', 'fold_'+str(i), 'model_parameters.json')) # optional\n",
    "    \n",
    "    # Personalize\n",
    "    results = leaspy.personalize(leaspy_test, personalization_settings)\n",
    "    ### SAVE INDIVIDUAL PARAMETERS IS NOT GONNA WORK\n",
    "    leaspy.save_individual_parameters(os.path.join('_outputs', 'fold_'+str(i), 'individual_parameters.json'), results.individual_parameters)\n",
    "                \n",
    "                \n",
    "    break"
   ]
  },
  {
   "cell_type": "code",
   "execution_count": null,
   "metadata": {},
   "outputs": [],
   "source": []
  },
  {
   "cell_type": "markdown",
   "metadata": {},
   "source": [
    "### Load the parameters and seen if it is it is always the same estimation"
   ]
  },
  {
   "cell_type": "code",
   "execution_count": null,
   "metadata": {},
   "outputs": [],
   "source": [
    "main_model_parameters = leaspy.load()\n",
    "main_individual_parameters = "
   ]
  },
  {
   "cell_type": "code",
   "execution_count": null,
   "metadata": {},
   "outputs": [],
   "source": [
    "cv_model_parameters = []\n",
    "cv_individual_parameters= []\n",
    "\n",
    "for i in range(10):\n",
    "    path_model_parameters = os.path.join('_outputs', 'fold_'+str(i), 'model_parameters.json')\n",
    "    leaspy.load(path)\n",
    "    cv_model_parameters.append(leaspy.model.parameters)\n",
    "    \n",
    "    path_individual_parameters = os.path.join('_outputs', 'fold_'+str(i), 'model_parameters.json')\n",
    "    i_p = leaspy.load_individual_parameters(path_individual_parameters)\n",
    "    cv_individual_parameters.append(i_p)"
   ]
  },
  {
   "cell_type": "code",
   "execution_count": null,
   "metadata": {},
   "outputs": [],
   "source": [
    "def display_model_parameters(main, cv):\n",
    "    ### There is one result in the main, and n in the cv\n",
    "    \n",
    "def display_individual_parameters(main, cv):\n",
    "    ### There is one individual parameters in the main, and one somewhere across the models"
   ]
  }
 ],
 "metadata": {
  "kernelspec": {
   "display_name": "Python 3",
   "language": "python",
   "name": "python3"
  },
  "language_info": {
   "codemirror_mode": {
    "name": "ipython",
    "version": 3
   },
   "file_extension": ".py",
   "mimetype": "text/x-python",
   "name": "python",
   "nbconvert_exporter": "python",
   "pygments_lexer": "ipython3",
   "version": "3.7.2"
  }
 },
 "nbformat": 4,
 "nbformat_minor": 2
}
